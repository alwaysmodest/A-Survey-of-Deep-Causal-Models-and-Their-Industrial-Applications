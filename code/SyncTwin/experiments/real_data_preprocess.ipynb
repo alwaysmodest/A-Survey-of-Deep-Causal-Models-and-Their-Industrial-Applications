{
 "cells": [
  {
   "cell_type": "code",
   "execution_count": 1,
   "metadata": {},
   "outputs": [],
   "source": [
    "import pandas as pds\n",
    "import numpy as np"
   ]
  },
  {
   "cell_type": "markdown",
   "metadata": {},
   "source": [
    "# loading data"
   ]
  },
  {
   "cell_type": "code",
   "execution_count": 2,
   "metadata": {},
   "outputs": [],
   "source": [
    "df0_pre = pds.read_csv('real_data/df_control_pre_treatment.csv.gz')\n",
    "\n",
    "df0_post = pds.read_csv('real_data/df_control_post_treatment.csv.gz')\n",
    "\n",
    "df1_pre = pds.read_csv('real_data/df_treated_pre_treatment.csv.gz')\n",
    "\n",
    "df1_post = pds.read_csv('real_data/df_treated_post_treatment.csv.gz')\n",
    "\n",
    "df0 = pds.read_csv('real_data/df_control_cohort.csv.gz')\n",
    "\n",
    "df1 = pds.read_csv('real_data/df_treated_cohort.csv.gz')"
   ]
  },
  {
   "cell_type": "code",
   "execution_count": 4,
   "metadata": {},
   "outputs": [
    {
     "data": {
      "text/plain": [
       "(336969, 50)"
      ]
     },
     "execution_count": 4,
     "metadata": {},
     "output_type": "execute_result"
    }
   ],
   "source": [
    "df0.shape"
   ]
  },
  {
   "cell_type": "code",
   "execution_count": 5,
   "metadata": {},
   "outputs": [
    {
     "data": {
      "text/plain": [
       "(96311, 50)"
      ]
     },
     "execution_count": 5,
     "metadata": {},
     "output_type": "execute_result"
    }
   ],
   "source": [
    "df1.shape"
   ]
  },
  {
   "cell_type": "markdown",
   "metadata": {},
   "source": [
    "# Outcome tensor"
   ]
  },
  {
   "cell_type": "code",
   "execution_count": 7,
   "metadata": {},
   "outputs": [],
   "source": [
    "df1_post['enroll_date'] = df1_post['statins_prscd']"
   ]
  },
  {
   "cell_type": "code",
   "execution_count": 8,
   "metadata": {},
   "outputs": [],
   "source": [
    "def get_post_treatment(df, n_year=3, rolling=True):\n",
    "    df = df.copy()\n",
    "    df.exp_date = pds.to_datetime(df.exp_date)\n",
    "    df.enroll_date = pds.to_datetime(df.enroll_date)\n",
    "    # three year follow up\n",
    "\n",
    "    df['time_since_enroll'] = df.exp_date - df.enroll_date\n",
    "    if rolling:\n",
    "        df_3yr = df[df.time_since_enroll.astype('timedelta64[D]').astype('int') < 365 * n_year]\n",
    "    else:\n",
    "        df_3yr = df[(df.time_since_enroll.astype('timedelta64[Y]').astype('int') == n_year - 1) ]\n",
    "    df_3yr_out = df_3yr.groupby('patid').agg({'original': 'mean'}).reset_index()\n",
    "    return df_3yr_out"
   ]
  },
  {
   "cell_type": "code",
   "execution_count": 10,
   "metadata": {},
   "outputs": [],
   "source": [
    "df1_outcome = get_post_treatment(df1_post, 1, True)\n",
    "df0_outcome = get_post_treatment(df0_post, 1, True)"
   ]
  },
  {
   "cell_type": "code",
   "execution_count": 12,
   "metadata": {},
   "outputs": [],
   "source": [
    "Y0 = df0_outcome.values[:, 1:, None]\n",
    "Y1 = df1_outcome.values[:, 1:, None]"
   ]
  },
  {
   "cell_type": "code",
   "execution_count": 13,
   "metadata": {},
   "outputs": [
    {
     "data": {
      "text/plain": [
       "(73672, 1, 1)"
      ]
     },
     "execution_count": 13,
     "metadata": {},
     "output_type": "execute_result"
    }
   ],
   "source": [
    "Y0.shape"
   ]
  },
  {
   "cell_type": "code",
   "execution_count": 14,
   "metadata": {},
   "outputs": [
    {
     "data": {
      "text/plain": [
       "(52113, 1, 1)"
      ]
     },
     "execution_count": 14,
     "metadata": {},
     "output_type": "execute_result"
    }
   ],
   "source": [
    "Y1.shape"
   ]
  },
  {
   "cell_type": "markdown",
   "metadata": {},
   "source": [
    "# Pre-treatment tensor"
   ]
  },
  {
   "cell_type": "code",
   "execution_count": 15,
   "metadata": {},
   "outputs": [],
   "source": [
    "df1_pre_with_outcome = df1_pre[df1_pre.patid.isin(df1_outcome.patid.values)]\n",
    "\n",
    "df0_pre_with_outcome = df0_pre[df0_pre.patid.isin(df0_outcome.patid.values)]"
   ]
  },
  {
   "cell_type": "code",
   "execution_count": 16,
   "metadata": {},
   "outputs": [
    {
     "data": {
      "text/plain": [
       "(714135, 14)"
      ]
     },
     "execution_count": 16,
     "metadata": {},
     "output_type": "execute_result"
    }
   ],
   "source": [
    "df0_pre_with_outcome.shape"
   ]
  },
  {
   "cell_type": "code",
   "execution_count": 18,
   "metadata": {},
   "outputs": [
    {
     "data": {
      "text/plain": [
       "1.1440162365929625"
      ]
     },
     "execution_count": 18,
     "metadata": {},
     "output_type": "execute_result"
    }
   ],
   "source": [
    "df1_pre_with_outcome.ldl.mean()"
   ]
  },
  {
   "cell_type": "code",
   "execution_count": 19,
   "metadata": {},
   "outputs": [
    {
     "data": {
      "text/plain": [
       "0.472948168755814"
      ]
     },
     "execution_count": 19,
     "metadata": {},
     "output_type": "execute_result"
    }
   ],
   "source": [
    "df0_pre_with_outcome.ldl.mean()"
   ]
  },
  {
   "cell_type": "code",
   "execution_count": 19,
   "metadata": {},
   "outputs": [],
   "source": [
    "def padd(arr, n, d):\n",
    "    if len(arr.shape) == 1:\n",
    "        lack = n - arr.shape[0]\n",
    "        ones = np.ones_like(arr)\n",
    "        pad = np.zeros(lack)\n",
    "        arr_new = np.concatenate([arr, pad])\n",
    "        mask_new = np.concatenate([ones, pad])\n",
    "    else:\n",
    "        lack = n - arr.shape[0]\n",
    "        ones = np.ones_like(arr)\n",
    "        pad = np.zeros((lack, d))\n",
    "        arr_new = np.concatenate([arr, pad], axis=0)\n",
    "        mask_new = np.concatenate([ones, pad], axis=0)\n",
    "    return arr_new, mask_new"
   ]
  },
  {
   "cell_type": "code",
   "execution_count": 20,
   "metadata": {},
   "outputs": [],
   "source": [
    "def process_pre_treatment(df):\n",
    "    df_grouped = df.groupby('patid')\n",
    "    \n",
    "    patid_list = []\n",
    "    ts_list = []\n",
    "    mat_list = []\n",
    "    ts_mask_list = []\n",
    "    mat_mask_list = []\n",
    "\n",
    "\n",
    "    for group_name, s in df_grouped:\n",
    "        ts = s.ts.values\n",
    "        ts_padded, ts_mask = padd(ts, 20, 10)\n",
    "\n",
    "        mat = s[['bmi','creatinine','dbp','hdl','ldl','pulse','sbp','smokbin','tchol','triglycerides']].values\n",
    "        mat_padded, mat_mask = padd(mat, 20, 10)\n",
    "        mat_nan = 1 - np.isnan(mat_padded).astype('float')\n",
    "        mat_mask = (mat_mask+mat_nan == 2).astype('float')\n",
    "        mat_padded[np.isnan(mat_padded)] = 0\n",
    "\n",
    "        patid_list.append(group_name)\n",
    "        ts_list.append(ts_padded)\n",
    "        mat_list.append(mat_padded)\n",
    "        ts_mask_list.append(ts_mask)\n",
    "        mat_mask_list.append(mat_mask)\n",
    "\n",
    "    ts_arr = np.stack(ts_list, axis=0)\n",
    "    val_arr = np.stack(mat_list, axis=0)\n",
    "    ts_mask_arr = np.stack(ts_mask_list, axis=0)\n",
    "    val_mask_arr = np.stack(mat_mask_list, axis=0)\n",
    "    return patid_list, val_arr, val_mask_arr, ts_arr, ts_mask_arr"
   ]
  },
  {
   "cell_type": "code",
   "execution_count": 21,
   "metadata": {},
   "outputs": [],
   "source": [
    "patid_list1, val_arr1, val_mask_arr1, ts_arr1, ts_mask_arr1 = process_pre_treatment(df1_pre_with_outcome)\n",
    "\n",
    "patid_list0, val_arr0, val_mask_arr0, ts_arr0, ts_mask_arr0 = process_pre_treatment(df0_pre_with_outcome)\n",
    "\n",
    "patid0 = np.array(patid_list0)\n",
    "patid1 = np.array(patid_list1)\n"
   ]
  },
  {
   "cell_type": "code",
   "execution_count": 22,
   "metadata": {},
   "outputs": [],
   "source": [
    "np.save('real_data3/val_arr1', val_arr1)\n",
    "np.save('real_data3/val_mask_arr1', val_mask_arr1)\n",
    "np.save('real_data3/ts_arr1', ts_arr1)\n",
    "np.save('real_data3/ts_mask_arr1', ts_mask_arr1)\n",
    "np.save('real_data3/patid1', patid1)\n",
    "\n",
    "np.save('real_data3/val_arr0', val_arr0)\n",
    "np.save('real_data3/val_mask_arr0', val_mask_arr0)\n",
    "np.save('real_data3/ts_arr0', ts_arr0)\n",
    "np.save('real_data3/ts_mask_arr0', ts_mask_arr0)\n",
    "np.save('real_data3/patid0', patid0)\n",
    "\n",
    "\n",
    "np.save('real_data3/Y0', Y0)\n",
    "np.save('real_data3/Y1', Y1)\n"
   ]
  },
  {
   "cell_type": "markdown",
   "metadata": {},
   "source": [
    "### Checking pre and post-treatment data matches on patid"
   ]
  },
  {
   "cell_type": "code",
   "execution_count": 23,
   "metadata": {},
   "outputs": [
    {
     "data": {
      "text/plain": [
       "0"
      ]
     },
     "execution_count": 23,
     "metadata": {},
     "output_type": "execute_result"
    }
   ],
   "source": [
    "np.sum(df1_outcome.patid.values != np.array(patid_list1))"
   ]
  },
  {
   "cell_type": "code",
   "execution_count": 24,
   "metadata": {},
   "outputs": [
    {
     "data": {
      "text/plain": [
       "0"
      ]
     },
     "execution_count": 24,
     "metadata": {},
     "output_type": "execute_result"
    }
   ],
   "source": [
    "np.sum(df0_outcome.patid.values != np.array(patid_list0))"
   ]
  },
  {
   "cell_type": "code",
   "execution_count": 25,
   "metadata": {},
   "outputs": [
    {
     "data": {
      "text/plain": [
       "(73672, 20, 10)"
      ]
     },
     "execution_count": 25,
     "metadata": {},
     "output_type": "execute_result"
    }
   ],
   "source": [
    "val_arr0.shape"
   ]
  },
  {
   "cell_type": "code",
   "execution_count": 26,
   "metadata": {},
   "outputs": [
    {
     "data": {
      "text/plain": [
       "(52113, 20, 10)"
      ]
     },
     "execution_count": 26,
     "metadata": {},
     "output_type": "execute_result"
    }
   ],
   "source": [
    "val_arr1.shape"
   ]
  },
  {
   "cell_type": "code",
   "execution_count": null,
   "metadata": {},
   "outputs": [],
   "source": []
  },
  {
   "cell_type": "markdown",
   "metadata": {},
   "source": [
    "## Export for clairvoyance benchmarks"
   ]
  },
  {
   "cell_type": "code",
   "execution_count": 57,
   "metadata": {},
   "outputs": [],
   "source": [
    "def get_df(df1_pre_with_outcome, df1_post, treat):\n",
    "    df1_pre = df1_pre_with_outcome[['patid', 'ts', 'bmi', 'creatinine','dbp','hdl','pulse','sbp','smokbin','tchol','triglycerides','ldl']]\n",
    "    df1_pre = df1_pre.rename(columns={\"patid\": \"id\", \"ts\": \"time\", \"ldl\": \"outcome\"})\n",
    "    df1_pre['treatment'] = 0\n",
    "    df1_pre = df1_pre[~df1_pre.outcome.isnull()]\n",
    "    df1_pre.outcome = df1_pre.outcome + 2.951493\n",
    "    df1_post2 = df1_post[['patid', 'ts', 'original']]\n",
    "    df1_post2 = df1_post2.rename(columns={\"patid\": \"id\", \"ts\": \"time\", \"original\": \"outcome\"})\n",
    "    df1_post2['treatment'] = treat\n",
    "    df1_post2.head()\n",
    "    df1_out = pds.concat([df1_pre, df1_post2], sort=False)\n",
    "    return df1_out"
   ]
  },
  {
   "cell_type": "code",
   "execution_count": 58,
   "metadata": {},
   "outputs": [],
   "source": [
    "df1_out = get_df(df1_pre_with_outcome, df1_post, 1)\n",
    "df0_out = get_df(df0_pre_with_outcome, df0_post, 0)"
   ]
  },
  {
   "cell_type": "code",
   "execution_count": 59,
   "metadata": {},
   "outputs": [],
   "source": [
    "df_out = pds.concat([df1_out, df0_out])\n",
    "df_out = df_out.sort_values(['id', 'time'])\n",
    "df_out.head()"
   ]
  },
  {
   "cell_type": "code",
   "execution_count": 64,
   "metadata": {},
   "outputs": [
    {
     "data": {
      "text/html": [
       "<div>\n",
       "<style scoped>\n",
       "    .dataframe tbody tr th:only-of-type {\n",
       "        vertical-align: middle;\n",
       "    }\n",
       "\n",
       "    .dataframe tbody tr th {\n",
       "        vertical-align: top;\n",
       "    }\n",
       "\n",
       "    .dataframe thead th {\n",
       "        text-align: right;\n",
       "    }\n",
       "</style>\n",
       "<table border=\"1\" class=\"dataframe\">\n",
       "  <thead>\n",
       "    <tr style=\"text-align: right;\">\n",
       "      <th></th>\n",
       "      <th>id</th>\n",
       "      <th>x_static</th>\n",
       "    </tr>\n",
       "  </thead>\n",
       "  <tbody>\n",
       "    <tr>\n",
       "      <td>0</td>\n",
       "      <td>1025</td>\n",
       "      <td>0</td>\n",
       "    </tr>\n",
       "    <tr>\n",
       "      <td>1</td>\n",
       "      <td>1127</td>\n",
       "      <td>0</td>\n",
       "    </tr>\n",
       "    <tr>\n",
       "      <td>2</td>\n",
       "      <td>1128</td>\n",
       "      <td>0</td>\n",
       "    </tr>\n",
       "    <tr>\n",
       "      <td>3</td>\n",
       "      <td>1209</td>\n",
       "      <td>0</td>\n",
       "    </tr>\n",
       "    <tr>\n",
       "      <td>4</td>\n",
       "      <td>1273</td>\n",
       "      <td>0</td>\n",
       "    </tr>\n",
       "  </tbody>\n",
       "</table>\n",
       "</div>"
      ],
      "text/plain": [
       "     id  x_static\n",
       "0  1025         0\n",
       "1  1127         0\n",
       "2  1128         0\n",
       "3  1209         0\n",
       "4  1273         0"
      ]
     },
     "execution_count": 64,
     "metadata": {},
     "output_type": "execute_result"
    }
   ],
   "source": [
    "ind_df = df_out.id.unique()\n",
    "df_static = pds.DataFrame({'id':ind_df})\n",
    "df_static['x_static'] = 0\n",
    "df_static.head()"
   ]
  },
  {
   "cell_type": "code",
   "execution_count": 65,
   "metadata": {},
   "outputs": [],
   "source": [
    "df_out.to_csv('real_data3/clair_df.csv')"
   ]
  },
  {
   "cell_type": "code",
   "execution_count": 66,
   "metadata": {},
   "outputs": [],
   "source": [
    "df_static.to_csv('real_data3/clair_df_static.csv')"
   ]
  }
 ],
 "metadata": {
  "kernelspec": {
   "display_name": "Python 3",
   "language": "python",
   "name": "python3"
  },
  "language_info": {
   "codemirror_mode": {
    "name": "ipython",
    "version": 3
   },
   "file_extension": ".py",
   "mimetype": "text/x-python",
   "name": "python",
   "nbconvert_exporter": "python",
   "pygments_lexer": "ipython3",
   "version": "3.7.4"
  }
 },
 "nbformat": 4,
 "nbformat_minor": 2
}
