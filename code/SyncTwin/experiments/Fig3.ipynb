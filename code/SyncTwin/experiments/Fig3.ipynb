{
 "cells": [
  {
   "cell_type": "code",
   "execution_count": 2,
   "metadata": {},
   "outputs": [],
   "source": [
    "import sys, os\n",
    "sys.path.append(os.path.abspath(\"..\"))"
   ]
  },
  {
   "cell_type": "code",
   "execution_count": 3,
   "metadata": {},
   "outputs": [],
   "source": [
    "# from config import DEVICE\n",
    "import SyncTwin\n",
    "from util import train_utils, io_utils\n",
    "import torch\n",
    "import numpy as np\n",
    "import matplotlib.pyplot as plt\n",
    "import pandas as pds"
   ]
  },
  {
   "cell_type": "markdown",
   "metadata": {},
   "source": [
    "# Fig3 A"
   ]
  },
  {
   "cell_type": "code",
   "execution_count": 5,
   "metadata": {},
   "outputs": [
    {
     "name": "stdout",
     "output_type": "stream",
     "text": [
      "loading data\n"
     ]
    }
   ],
   "source": [
    "seed = 100\n",
    "sim_id = 'sync1'\n",
    "model_id = '-prognostic-linear'\n",
    "\n",
    "base_path_model = '../models/{}-seed-'.format(sim_id) + str(seed) + model_id\n",
    "base_path_plot = '../plots/{}-seed-'.format(sim_id) + str(seed)+ model_id\n",
    "base_path_data = '../data/{}-seed-'.format(sim_id) + str(seed)\n",
    "train_utils.create_paths(base_path_model, base_path_plot, base_path_data)\n",
    "plot_path = base_path_plot + '/unit-{}-dim-{}-{}.png'\n",
    "data_path = base_path_data + '/{}-{}.{}'\n",
    "data_path2 = base_path_data + '/{}.{}'\n",
    "\n",
    "# loading config and data\n",
    "print('loading data')\n",
    "n_units, n_treated, n_units_total, step, train_step, control_sample, noise, n_basis, n_cluster = io_utils.load_config(data_path)\n",
    "x_full, t_full, mask_full, batch_ind_full, y_full, y_control, y_mask_full, m, sd, treatment_effect = io_utils.load_tensor(data_path, 'test')\n"
   ]
  },
  {
   "cell_type": "code",
   "execution_count": 6,
   "metadata": {},
   "outputs": [],
   "source": [
    "best_model_path = base_path_model + '/best-{}.pth'\n",
    "enc = SyncTwin.RegularEncoder(input_dim=3, hidden_dim=20)\n",
    "dec = SyncTwin.RegularDecoder(hidden_dim=enc.hidden_dim, output_dim=enc.input_dim, max_seq_len=train_step)\n",
    "dec_Y = SyncTwin.LinearDecoder(hidden_dim=enc.hidden_dim, output_dim=y_full.shape[-1],\n",
    "                                       max_seq_len=step - train_step)\n",
    "if model_id.find('none') > 0:\n",
    "    nsc = SyncTwin.SyncTwin(n_units, n_treated, tau=1, reg_B=0., lam_express=1., lam_recon=1., lam_prognostic=0., encoder=enc, decoder=dec)\n",
    "else:\n",
    "    nsc = SyncTwin.SyncTwin(n_units, n_treated, tau=1, reg_B=0., lam_express=1., lam_recon=1., lam_prognostic=0., encoder=enc, decoder=dec, decoder_Y=dec_Y)\n",
    "\n",
    "train_utils.load_nsc(nsc, x_full, t_full, mask_full, batch_ind_full, model_path=best_model_path.format('nsc.pth'))\n"
   ]
  },
  {
   "cell_type": "code",
   "execution_count": 7,
   "metadata": {},
   "outputs": [],
   "source": [
    "def get_treatment_effect(nsc, batch_ind_full, y_full, y_control, y_pre_control,itr=500):\n",
    "    y_hat_list = list()\n",
    "    y_hat_list2 = list()\n",
    "    for i in range(itr):\n",
    "        with torch.no_grad():\n",
    "            B_reduced = nsc.get_B_reduced(batch_ind_full)\n",
    "            y_hat = torch.matmul(B_reduced, y_control)\n",
    "            y_pre_hat = torch.matmul(B_reduced, y_pre_control)\n",
    "            if torch.sum(torch.isinf(y_hat)).item() == 0:\n",
    "                y_hat_list.append(y_hat)\n",
    "            if torch.sum(torch.isinf(y_pre_hat)).item() == 0:\n",
    "                y_hat_list2.append(y_pre_hat)\n",
    "\n",
    "    y_hat_mat = torch.stack(y_hat_list, dim=-1)\n",
    "    y_hat_mat[torch.isinf(y_hat_mat)] = 0.\n",
    "    y_hat2 = torch.mean(y_hat_mat, dim=-1)\n",
    "    \n",
    "    y_pre_hat_mat = torch.stack(y_hat_list2, dim=-1)\n",
    "    y_pre_hat_mat[torch.isinf(y_pre_hat_mat)] = 0.\n",
    "    y_pre_hat2 = torch.mean(y_pre_hat_mat, dim=-1)\n",
    "    \n",
    "    return (y_full - y_hat2)[:, nsc.n_unit:, :],  y_hat2, y_pre_hat2[:, n_units:, 0]"
   ]
  },
  {
   "cell_type": "code",
   "execution_count": 8,
   "metadata": {},
   "outputs": [],
   "source": [
    "y_pre_control = x_full[:, :n_units, 2][:, :, None]\n",
    "effect_est, y_hat, y_pre_hat = get_treatment_effect(nsc, batch_ind_full, y_full, y_control, y_pre_control)"
   ]
  },
  {
   "cell_type": "code",
   "execution_count": 9,
   "metadata": {},
   "outputs": [],
   "source": [
    "y_pre_test = x_full[:, n_units:, 2]"
   ]
  },
  {
   "cell_type": "code",
   "execution_count": 10,
   "metadata": {},
   "outputs": [],
   "source": [
    "err_post = torch.mean(torch.abs(treatment_effect - effect_est), dim=0).squeeze().cpu().numpy()"
   ]
  },
  {
   "cell_type": "code",
   "execution_count": 11,
   "metadata": {},
   "outputs": [],
   "source": [
    "err_pre = torch.mean(torch.abs(y_pre_hat - y_pre_test), dim=0).squeeze().cpu().numpy()"
   ]
  },
  {
   "cell_type": "code",
   "execution_count": 12,
   "metadata": {},
   "outputs": [],
   "source": [
    "n_reject = []\n",
    "n_reject_sd = []\n",
    "error_kept = []\n",
    "error_kept_sd = []\n",
    "pct_ok = []\n",
    "t_list = np.linspace(0.05, 0.6, 100)\n",
    "for t in t_list:\n",
    "    p = np.sum(err_pre < t)/200\n",
    "    err = err_post[err_pre < t]\n",
    "    pct_ok.append(np.sum(err < t) / len(err))\n",
    "    n_reject.append(p * 100)\n",
    "    n_reject_sd.append(np.sqrt(p * (1-p) / 200) * 100)\n",
    "    error_kept.append(np.mean(err))\n",
    "    error_kept_sd.append(np.std(err) / np.sqrt(len(err) * 5))\n",
    "\n",
    "n_reject = np.array(n_reject)\n",
    "n_reject_sd = np.array(n_reject_sd)\n",
    "error_kept = np.array(error_kept)\n",
    "error_kept_sd = np.array(error_kept_sd)"
   ]
  },
  {
   "cell_type": "code",
   "execution_count": 13,
   "metadata": {},
   "outputs": [
    {
     "data": {
      "text/plain": [
       "<Figure size 432x216 with 0 Axes>"
      ]
     },
     "metadata": {},
     "output_type": "display_data"
    },
    {
     "data": {
      "image/png": "[encoded data removed]",
      "text/plain": [
       "<Figure size 432x216 with 2 Axes>"
      ]
     },
     "metadata": {
      "needs_background": "light"
     },
     "output_type": "display_data"
    }
   ],
   "source": [
    "import matplotlib.ticker as mtick\n",
    "f = plt.figure(figsize=(6,3))\n",
    "\n",
    "SMALL_SIZE = 12\n",
    "MEDIUM_SIZE = 14\n",
    "BIGGER_SIZE = 14\n",
    "\n",
    "plt.rc('font', size=SMALL_SIZE)          # controls default text sizes\n",
    "plt.rc('axes', titlesize=MEDIUM_SIZE)     # fontsize of the axes title\n",
    "plt.rc('axes', labelsize=MEDIUM_SIZE)    # fontsize of the x and y labels\n",
    "plt.rc('xtick', labelsize=SMALL_SIZE)    # fontsize of the tick labels\n",
    "plt.rc('ytick', labelsize=SMALL_SIZE)    # fontsize of the tick labels\n",
    "plt.rc('legend', fontsize=SMALL_SIZE)    # legend fontsize\n",
    "plt.rc('figure', titlesize=BIGGER_SIZE)  # fontsize of the figure title\n",
    "\n",
    "fig, ax1 = plt.subplots(figsize=(6,3))\n",
    "\n",
    "color = 'tab:red'\n",
    "ax1.set_xlabel('Rejection threshold $\\delta$')\n",
    "ax1.set_xscale('log')\n",
    "ax1.set_xticks([0.05,  0.116, 0.2, 0.4])\n",
    "ax1.set_xticklabels([0.05, 0.12, 0.2, 0.4])\n",
    "ax1.set_ylabel('Accepted %', color=color, position=(-1,1), rotation=0, ha='left')\n",
    "ax1.plot(t_list, n_reject, color=color)\n",
    "ax1.fill_between(t_list, n_reject-2*n_reject_sd, n_reject+2*n_reject_sd, color=color, alpha=0.1)\n",
    "ax1.axhline(y=75, xmin=-0.05, xmax=0.34, color=color, ls=':')\n",
    "ax1.axvline(ymax=0.65, ymin=0, x=0.1166, color='black', ls=':')\n",
    "ax1.axhline(y=65, xmin=0.36, xmax=1.8, color='tab:blue', ls=':')\n",
    "ax1.set_yticks([0, 25, 50, 75, 100])\n",
    "# ax.set_yticklabels(np.round(custom_ticks, 1))\n",
    "\n",
    "ax1.tick_params(axis='y', labelcolor=color)\n",
    "ax1.yaxis.set_major_formatter(mtick.PercentFormatter())\n",
    "ax1.set_ylim((-5,120.05))\n",
    "\n",
    "ax2 = ax1.twinx()  # instantiate a second axes that shares the same x-axis\n",
    "# ax2.set_xscale('log')\n",
    "color = 'tab:blue'\n",
    "ax2.set_ylabel('MAE ', color=color, position=(-1,1.1), rotation=0, ha='right')  # we already handled the x-label with ax1\n",
    "ax2.plot(t_list, error_kept, color=color)\n",
    "ax2.fill_between(t_list, error_kept-2*error_kept_sd, error_kept+2*error_kept_sd, color=color, alpha=0.1)\n",
    "ax2.tick_params(axis='y', labelcolor=color)\n",
    "\n",
    "fig.tight_layout()  # otherwise the right y-label is slightly clipped\n",
    "plt.savefig('Fig3_A.png', dpi=300)\n",
    "# plt.show()"
   ]
  },
  {
   "cell_type": "markdown",
   "metadata": {},
   "source": [
    "# Fig3 B\n",
    "\n",
    "#### Note:\n",
    "Please manually update [`results/confounder_err.csv`](../results/confounder_err.csv) and [`results/confounder_sd.csv`](../results/confounder_sd.csv) manually after running experiments:\n",
    "\n",
    "<br/>\n",
    "\n",
    "* `_err` file contains MAE experiment mean vales.\n",
    "* `_sd` file contains MAE experiment estimated standard deviation values.\n",
    "\n",
    "<br/>\n",
    "\n",
    "* Values in column 1 comes from the file `Tab2_C3_MAE.txt` (generated by `Tab2.sh`).\n",
    "* Values in columns 2 and 3 come from `Fig3_C2_MAE.txt` and `Fig3_C3_MAE.txt` respectively (generated by  `Fig3.sh`)."
   ]
  },
  {
   "cell_type": "code",
   "execution_count": 15,
   "metadata": {},
   "outputs": [
    {
     "data": {
      "text/html": [
       "<div>\n",
       "<style scoped>\n",
       "    .dataframe tbody tr th:only-of-type {\n",
       "        vertical-align: middle;\n",
       "    }\n",
       "\n",
       "    .dataframe tbody tr th {\n",
       "        vertical-align: top;\n",
       "    }\n",
       "\n",
       "    .dataframe thead th {\n",
       "        text-align: right;\n",
       "    }\n",
       "</style>\n",
       "<table border=\"1\" class=\"dataframe\">\n",
       "  <thead>\n",
       "    <tr style=\"text-align: right;\">\n",
       "      <th></th>\n",
       "      <th>0</th>\n",
       "      <th>1</th>\n",
       "      <th>2</th>\n",
       "      <th>3</th>\n",
       "    </tr>\n",
       "  </thead>\n",
       "  <tbody>\n",
       "    <tr>\n",
       "      <th>0</th>\n",
       "      <td>SyncTwin</td>\n",
       "      <td>0.119</td>\n",
       "      <td>0.109</td>\n",
       "      <td>0.148</td>\n",
       "    </tr>\n",
       "    <tr>\n",
       "      <th>1</th>\n",
       "      <td>SC</td>\n",
       "      <td>0.149</td>\n",
       "      <td>0.138</td>\n",
       "      <td>0.260</td>\n",
       "    </tr>\n",
       "    <tr>\n",
       "      <th>2</th>\n",
       "      <td>MC-NNM</td>\n",
       "      <td>0.226</td>\n",
       "      <td>0.345</td>\n",
       "      <td>0.775</td>\n",
       "    </tr>\n",
       "    <tr>\n",
       "      <th>3</th>\n",
       "      <td>CFRNet</td>\n",
       "      <td>0.139</td>\n",
       "      <td>0.158</td>\n",
       "      <td>0.241</td>\n",
       "    </tr>\n",
       "    <tr>\n",
       "      <th>4</th>\n",
       "      <td>1NN</td>\n",
       "      <td>1.614</td>\n",
       "      <td>1.636</td>\n",
       "      <td>1.813</td>\n",
       "    </tr>\n",
       "    <tr>\n",
       "      <th>5</th>\n",
       "      <td>GP</td>\n",
       "      <td>0.561</td>\n",
       "      <td>0.563</td>\n",
       "      <td>0.554</td>\n",
       "    </tr>\n",
       "    <tr>\n",
       "      <th>6</th>\n",
       "      <td>RSC</td>\n",
       "      <td>0.321</td>\n",
       "      <td>0.322</td>\n",
       "      <td>0.322</td>\n",
       "    </tr>\n",
       "    <tr>\n",
       "      <th>7</th>\n",
       "      <td>CRN</td>\n",
       "      <td>0.273</td>\n",
       "      <td>0.363</td>\n",
       "      <td>0.458</td>\n",
       "    </tr>\n",
       "  </tbody>\n",
       "</table>\n",
       "</div>"
      ],
      "text/plain": [
       "          0      1      2      3\n",
       "0  SyncTwin  0.119  0.109  0.148\n",
       "1        SC  0.149  0.138  0.260\n",
       "2    MC-NNM  0.226  0.345  0.775\n",
       "3    CFRNet  0.139  0.158  0.241\n",
       "4       1NN  1.614  1.636  1.813\n",
       "5        GP  0.561  0.563  0.554\n",
       "6       RSC  0.321  0.322  0.322\n",
       "7       CRN  0.273  0.363  0.458"
      ]
     },
     "execution_count": 15,
     "metadata": {},
     "output_type": "execute_result"
    }
   ],
   "source": [
    "err = pds.read_csv('../results/confounder_err.csv')\n",
    "err"
   ]
  },
  {
   "cell_type": "code",
   "execution_count": 16,
   "metadata": {},
   "outputs": [
    {
     "data": {
      "text/html": [
       "<div>\n",
       "<style scoped>\n",
       "    .dataframe tbody tr th:only-of-type {\n",
       "        vertical-align: middle;\n",
       "    }\n",
       "\n",
       "    .dataframe tbody tr th {\n",
       "        vertical-align: top;\n",
       "    }\n",
       "\n",
       "    .dataframe thead th {\n",
       "        text-align: right;\n",
       "    }\n",
       "</style>\n",
       "<table border=\"1\" class=\"dataframe\">\n",
       "  <thead>\n",
       "    <tr style=\"text-align: right;\">\n",
       "      <th></th>\n",
       "      <th>0</th>\n",
       "      <th>1</th>\n",
       "      <th>2</th>\n",
       "      <th>3</th>\n",
       "    </tr>\n",
       "  </thead>\n",
       "  <tbody>\n",
       "    <tr>\n",
       "      <th>0</th>\n",
       "      <td>SyncTwin</td>\n",
       "      <td>0.008</td>\n",
       "      <td>0.007</td>\n",
       "      <td>0.016</td>\n",
       "    </tr>\n",
       "    <tr>\n",
       "      <th>1</th>\n",
       "      <td>SC</td>\n",
       "      <td>0.018</td>\n",
       "      <td>0.013</td>\n",
       "      <td>0.022</td>\n",
       "    </tr>\n",
       "    <tr>\n",
       "      <th>2</th>\n",
       "      <td>MC-NNM</td>\n",
       "      <td>0.011</td>\n",
       "      <td>0.018</td>\n",
       "      <td>0.042</td>\n",
       "    </tr>\n",
       "    <tr>\n",
       "      <th>3</th>\n",
       "      <td>CFRNet</td>\n",
       "      <td>0.007</td>\n",
       "      <td>0.009</td>\n",
       "      <td>0.016</td>\n",
       "    </tr>\n",
       "    <tr>\n",
       "      <th>4</th>\n",
       "      <td>1NN</td>\n",
       "      <td>0.078</td>\n",
       "      <td>0.088</td>\n",
       "      <td>0.104</td>\n",
       "    </tr>\n",
       "    <tr>\n",
       "      <th>5</th>\n",
       "      <td>GP</td>\n",
       "      <td>0.036</td>\n",
       "      <td>0.036</td>\n",
       "      <td>0.036</td>\n",
       "    </tr>\n",
       "    <tr>\n",
       "      <th>6</th>\n",
       "      <td>RSC</td>\n",
       "      <td>0.019</td>\n",
       "      <td>0.019</td>\n",
       "      <td>0.019</td>\n",
       "    </tr>\n",
       "    <tr>\n",
       "      <th>7</th>\n",
       "      <td>CRN</td>\n",
       "      <td>0.021</td>\n",
       "      <td>0.023</td>\n",
       "      <td>0.024</td>\n",
       "    </tr>\n",
       "  </tbody>\n",
       "</table>\n",
       "</div>"
      ],
      "text/plain": [
       "          0      1      2      3\n",
       "0  SyncTwin  0.008  0.007  0.016\n",
       "1        SC  0.018  0.013  0.022\n",
       "2    MC-NNM  0.011  0.018  0.042\n",
       "3    CFRNet  0.007  0.009  0.016\n",
       "4       1NN  0.078  0.088  0.104\n",
       "5        GP  0.036  0.036  0.036\n",
       "6       RSC  0.019  0.019  0.019\n",
       "7       CRN  0.021  0.023  0.024"
      ]
     },
     "execution_count": 16,
     "metadata": {},
     "output_type": "execute_result"
    }
   ],
   "source": [
    "sdd = pds.read_csv('../results/confounder_sd.csv')\n",
    "sdd"
   ]
  },
  {
   "cell_type": "code",
   "execution_count": 17,
   "metadata": {},
   "outputs": [
    {
     "data": {
      "image/png": "[encoded data removed]",
      "text/plain": [
       "<Figure size 432x216 with 1 Axes>"
      ]
     },
     "metadata": {
      "needs_background": "light"
     },
     "output_type": "display_data"
    }
   ],
   "source": [
    "plt.style.use('tableau-colorblind10')\n",
    "\n",
    "fig, ax1 = plt.subplots(figsize=(6,3))\n",
    "\n",
    "for model in ['SyncTwin', 'SC', 'RSC', 'MC-NNM', 'CRN', 'CFRNet', '1NN']:\n",
    "    err_sub = err[err['0'] == model][['1', '2', '3']].values[0, :]\n",
    "    sd_sub = sdd[sdd['0'] == model][['1', '2', '3']].values[0, :]\n",
    "    x = ['0', '1', '2']\n",
    "    if model != 'SyncTwin':\n",
    "        ax1.plot(x, err_sub, 'o-', label=model)\n",
    "        ax1.fill_between(x, err_sub-1.96*sd_sub, err_sub+1.96*sd_sub, alpha=0.1)\n",
    "    else:\n",
    "        ax1.plot(x, err_sub, 'o-', label=model, color='tab:red')\n",
    "        ax1.fill_between(x, err_sub-1.96*sd_sub, err_sub+1.96*sd_sub, alpha=0.1, color='tab:red')\n",
    "\n",
    "    ax1.set_yscale('log')\n",
    "    plt.xlim(-1.1, 2.2)\n",
    "\n",
    "ax1.set_ylabel('MAE')\n",
    "ax1.set_xlabel('Number of omitted covariates')\n",
    "\n",
    "plt.legend()\n",
    "fig.tight_layout()\n",
    "\n",
    "plt.savefig('Fig3_B.png', dpi=300)\n"
   ]
  }
 ],
 "metadata": {
  "kernelspec": {
   "display_name": "Python 3",
   "language": "python",
   "name": "python3"
  },
  "language_info": {
   "codemirror_mode": {
    "name": "ipython",
    "version": 3
   },
   "file_extension": ".py",
   "mimetype": "text/x-python",
   "name": "python",
   "nbconvert_exporter": "python",
   "pygments_lexer": "ipython3",
   "version": "3.7.11"
  }
 },
 "nbformat": 4,
 "nbformat_minor": 2
}
