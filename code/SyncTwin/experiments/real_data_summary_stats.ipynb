{
 "cells": [
  {
   "cell_type": "code",
   "execution_count": 1,
   "metadata": {},
   "outputs": [],
   "source": [
    "import pandas as pds\n",
    "import numpy as np"
   ]
  },
  {
   "cell_type": "markdown",
   "metadata": {},
   "source": [
    "# loading data"
   ]
  },
  {
   "cell_type": "code",
   "execution_count": 2,
   "metadata": {},
   "outputs": [],
   "source": [
    "df0_pre = pds.read_csv('real_data/df_control_pre_treatment.csv.gz')\n",
    "\n",
    "df0_post = pds.read_csv('real_data/df_control_post_treatment.csv.gz')\n",
    "\n",
    "df1_pre = pds.read_csv('real_data/df_treated_pre_treatment.csv.gz')\n",
    "\n",
    "df1_post = pds.read_csv('real_data/df_treated_post_treatment.csv.gz')\n",
    "\n",
    "df0 = pds.read_csv('real_data/df_control_cohort.csv.gz')\n",
    "\n",
    "df1 = pds.read_csv('real_data/df_treated_cohort.csv.gz')"
   ]
  },
  {
   "cell_type": "markdown",
   "metadata": {},
   "source": [
    "# summary cohort"
   ]
  },
  {
   "cell_type": "code",
   "execution_count": 3,
   "metadata": {},
   "outputs": [
    {
     "data": {
      "text/plain": [
       "Index(['patid', 'pracid', 'linkdate', 'region', 'gender', 'start_exp', 'd_yob',\n",
       "       'start_date', 'end_date', 'cvd_CPRD_ind', 'cvd_CPRD_date',\n",
       "       'cvd_CPRD_ind_ctv3', 'cvd_CPRD_date_ctv3', 'cprdmedcode', 'ctv3',\n",
       "       'cvd_CPRD_ind_old', 'cvd_CPRD_date_old', 'cvd_HES_date', 'cvd_HES_ind',\n",
       "       'cvd_ONS_date', 'cvd_ONS_ind', 'cvd_date', 'cvd_ind', 'bp_med_prscd',\n",
       "       'statins_prscd', 'statinuser', 'renal_ind', 'renal_date',\n",
       "       'rheumatoid_arthritis_ind', 'rheumatoid_arthritis_date',\n",
       "       'depression_ind', 'depression_date', 'SLE_ind', 'SLE_date',\n",
       "       'Migraine_ind', 'Migraine_date', 'Severe_mental_illness_ind',\n",
       "       'Severe_mental_illness_date', 'Dementia_ind', 'Dementia_date',\n",
       "       'Atrial_fibrillation_ind', 'Atrial_fibrillation_date', 'gen_ethnicity',\n",
       "       'townsend_20', 'death_date', 'death_ind', 'diab_ind',\n",
       "       'diab_type_uncertainty', 'diab_type', 'diab_date'],\n",
       "      dtype='object')"
      ]
     },
     "execution_count": 3,
     "metadata": {},
     "output_type": "execute_result"
    }
   ],
   "source": [
    "df0.columns"
   ]
  },
  {
   "cell_type": "markdown",
   "metadata": {},
   "source": [
    "### Count"
   ]
  },
  {
   "cell_type": "code",
   "execution_count": 4,
   "metadata": {},
   "outputs": [
    {
     "data": {
      "text/plain": [
       "336969"
      ]
     },
     "execution_count": 4,
     "metadata": {},
     "output_type": "execute_result"
    }
   ],
   "source": [
    "df0.shape[0]"
   ]
  },
  {
   "cell_type": "code",
   "execution_count": 5,
   "metadata": {},
   "outputs": [
    {
     "data": {
      "text/plain": [
       "96311"
      ]
     },
     "execution_count": 5,
     "metadata": {},
     "output_type": "execute_result"
    }
   ],
   "source": [
    "df1.shape[0]"
   ]
  },
  {
   "cell_type": "markdown",
   "metadata": {},
   "source": [
    "### Gender"
   ]
  },
  {
   "cell_type": "code",
   "execution_count": 6,
   "metadata": {},
   "outputs": [
    {
     "data": {
      "text/plain": [
       "Male      0.513092\n",
       "Female    0.486908\n",
       "Name: gender, dtype: float64"
      ]
     },
     "execution_count": 6,
     "metadata": {},
     "output_type": "execute_result"
    }
   ],
   "source": [
    "df0.gender.value_counts() / df0.shape[0]"
   ]
  },
  {
   "cell_type": "code",
   "execution_count": 7,
   "metadata": {
    "scrolled": true
   },
   "outputs": [
    {
     "data": {
      "text/plain": [
       "Male      0.592892\n",
       "Female    0.407108\n",
       "Name: gender, dtype: float64"
      ]
     },
     "execution_count": 7,
     "metadata": {},
     "output_type": "execute_result"
    }
   ],
   "source": [
    "df1.gender.value_counts() / df1.shape[0]"
   ]
  },
  {
   "cell_type": "markdown",
   "metadata": {},
   "source": [
    "### Age"
   ]
  },
  {
   "cell_type": "code",
   "execution_count": 8,
   "metadata": {},
   "outputs": [],
   "source": [
    "df0['age'] = 2004 - df0['d_yob'].str[:4].astype('double')\n",
    "df1['age'] = 2004 - df1['d_yob'].str[:4].astype('double')"
   ]
  },
  {
   "cell_type": "code",
   "execution_count": 9,
   "metadata": {},
   "outputs": [
    {
     "data": {
      "text/plain": [
       "60.0"
      ]
     },
     "execution_count": 9,
     "metadata": {},
     "output_type": "execute_result"
    }
   ],
   "source": [
    "df0['age'].median()"
   ]
  },
  {
   "cell_type": "code",
   "execution_count": 10,
   "metadata": {},
   "outputs": [
    {
     "data": {
      "text/plain": [
       "61.0"
      ]
     },
     "execution_count": 10,
     "metadata": {},
     "output_type": "execute_result"
    }
   ],
   "source": [
    "df1['age'].median()"
   ]
  },
  {
   "cell_type": "markdown",
   "metadata": {},
   "source": [
    "### Townsend index"
   ]
  },
  {
   "cell_type": "code",
   "execution_count": 11,
   "metadata": {},
   "outputs": [
    {
     "data": {
      "text/plain": [
       "8.0"
      ]
     },
     "execution_count": 11,
     "metadata": {},
     "output_type": "execute_result"
    }
   ],
   "source": [
    "df0['townsend_20'].median()"
   ]
  },
  {
   "cell_type": "code",
   "execution_count": 12,
   "metadata": {},
   "outputs": [
    {
     "data": {
      "text/plain": [
       "8.0"
      ]
     },
     "execution_count": 12,
     "metadata": {},
     "output_type": "execute_result"
    }
   ],
   "source": [
    "df1['townsend_20'].median()"
   ]
  },
  {
   "cell_type": "markdown",
   "metadata": {},
   "source": [
    "### Ethnicity - Not to include"
   ]
  },
  {
   "cell_type": "code",
   "execution_count": 13,
   "metadata": {},
   "outputs": [
    {
     "data": {
      "text/plain": [
       "White         0.467064\n",
       "Unknown       0.014981\n",
       "Indian        0.003437\n",
       "Other         0.003110\n",
       "Bl_Carib      0.002410\n",
       "Bl_Afric      0.001484\n",
       "Oth_Asian     0.001321\n",
       "Mixed         0.000970\n",
       "Pakistani     0.000855\n",
       "Chinese       0.000712\n",
       "Bl_Other      0.000674\n",
       "Bangladesi    0.000157\n",
       "Name: gen_ethnicity, dtype: float64"
      ]
     },
     "execution_count": 13,
     "metadata": {},
     "output_type": "execute_result"
    }
   ],
   "source": [
    "df0['gen_ethnicity'].value_counts() / df0['gen_ethnicity'].shape[0]"
   ]
  },
  {
   "cell_type": "code",
   "execution_count": 14,
   "metadata": {},
   "outputs": [
    {
     "data": {
      "text/plain": [
       "White         0.555721\n",
       "Unknown       0.016862\n",
       "Indian        0.004475\n",
       "Other         0.003821\n",
       "Bl_Carib      0.002118\n",
       "Oth_Asian     0.002087\n",
       "Pakistani     0.001526\n",
       "Bl_Afric      0.001236\n",
       "Mixed         0.001204\n",
       "Chinese       0.000768\n",
       "Bl_Other      0.000592\n",
       "Bangladesi    0.000343\n",
       "Name: gen_ethnicity, dtype: float64"
      ]
     },
     "execution_count": 14,
     "metadata": {},
     "output_type": "execute_result"
    }
   ],
   "source": [
    "df1['gen_ethnicity'].value_counts() / df1['gen_ethnicity'].shape[0]"
   ]
  },
  {
   "cell_type": "code",
   "execution_count": 15,
   "metadata": {},
   "outputs": [
    {
     "data": {
      "text/plain": [
       "0.5028266695155934"
      ]
     },
     "execution_count": 15,
     "metadata": {},
     "output_type": "execute_result"
    }
   ],
   "source": [
    "df0['gen_ethnicity'].isna().sum() / df0['gen_ethnicity'].shape[0]"
   ]
  },
  {
   "cell_type": "code",
   "execution_count": 16,
   "metadata": {},
   "outputs": [
    {
     "data": {
      "text/plain": [
       "0.40924712649645417"
      ]
     },
     "execution_count": 16,
     "metadata": {},
     "output_type": "execute_result"
    }
   ],
   "source": [
    "df1['gen_ethnicity'].isna().sum() / df1['gen_ethnicity'].shape[0]"
   ]
  },
  {
   "cell_type": "markdown",
   "metadata": {},
   "source": [
    "### Comorbidity"
   ]
  },
  {
   "cell_type": "code",
   "execution_count": 17,
   "metadata": {},
   "outputs": [
    {
     "data": {
      "text/plain": [
       "1.0    0.090142\n",
       "Name: cvd_ind, dtype: float64"
      ]
     },
     "execution_count": 17,
     "metadata": {},
     "output_type": "execute_result"
    }
   ],
   "source": [
    "df0['cvd_ind'].value_counts() / df0.shape[0]"
   ]
  },
  {
   "cell_type": "code",
   "execution_count": 18,
   "metadata": {},
   "outputs": [
    {
     "data": {
      "text/plain": [
       "1.0    0.163325\n",
       "Name: cvd_ind, dtype: float64"
      ]
     },
     "execution_count": 18,
     "metadata": {},
     "output_type": "execute_result"
    }
   ],
   "source": [
    "df1['cvd_ind'].value_counts() / df1.shape[0]"
   ]
  },
  {
   "cell_type": "code",
   "execution_count": 19,
   "metadata": {},
   "outputs": [
    {
     "data": {
      "text/plain": [
       "1.0    0.12529\n",
       "Name: renal_ind, dtype: float64"
      ]
     },
     "execution_count": 19,
     "metadata": {},
     "output_type": "execute_result"
    }
   ],
   "source": [
    "df0['renal_ind'].value_counts() / df0.shape[0]"
   ]
  },
  {
   "cell_type": "code",
   "execution_count": 20,
   "metadata": {},
   "outputs": [
    {
     "data": {
      "text/plain": [
       "1.0    0.167426\n",
       "Name: renal_ind, dtype: float64"
      ]
     },
     "execution_count": 20,
     "metadata": {},
     "output_type": "execute_result"
    }
   ],
   "source": [
    "df1['renal_ind'].value_counts() / df1.shape[0]"
   ]
  },
  {
   "cell_type": "code",
   "execution_count": 21,
   "metadata": {},
   "outputs": [
    {
     "data": {
      "text/plain": [
       "1.0    0.035143\n",
       "Name: Dementia_ind, dtype: float64"
      ]
     },
     "execution_count": 21,
     "metadata": {},
     "output_type": "execute_result"
    }
   ],
   "source": [
    "df0['Dementia_ind'].value_counts() / df0.shape[0]"
   ]
  },
  {
   "cell_type": "code",
   "execution_count": 22,
   "metadata": {},
   "outputs": [
    {
     "data": {
      "text/plain": [
       "1.0    0.029031\n",
       "Name: Dementia_ind, dtype: float64"
      ]
     },
     "execution_count": 22,
     "metadata": {},
     "output_type": "execute_result"
    }
   ],
   "source": [
    "df1['Dementia_ind'].value_counts() / df1.shape[0]"
   ]
  },
  {
   "cell_type": "code",
   "execution_count": 23,
   "metadata": {},
   "outputs": [
    {
     "data": {
      "text/plain": [
       "1.0    0.219252\n",
       "Name: depression_ind, dtype: float64"
      ]
     },
     "execution_count": 23,
     "metadata": {},
     "output_type": "execute_result"
    }
   ],
   "source": [
    "df0['depression_ind'].value_counts() / df0.shape[0]"
   ]
  },
  {
   "cell_type": "code",
   "execution_count": 24,
   "metadata": {},
   "outputs": [
    {
     "data": {
      "text/plain": [
       "1.0    0.213288\n",
       "Name: depression_ind, dtype: float64"
      ]
     },
     "execution_count": 24,
     "metadata": {},
     "output_type": "execute_result"
    }
   ],
   "source": [
    "df1['depression_ind'].value_counts() / df1.shape[0]"
   ]
  },
  {
   "cell_type": "code",
   "execution_count": 25,
   "metadata": {},
   "outputs": [
    {
     "data": {
      "text/plain": [
       "1.0    0.042594\n",
       "Name: Atrial_fibrillation_ind, dtype: float64"
      ]
     },
     "execution_count": 25,
     "metadata": {},
     "output_type": "execute_result"
    }
   ],
   "source": [
    "df0['Atrial_fibrillation_ind'].value_counts() / df0.shape[0]"
   ]
  },
  {
   "cell_type": "code",
   "execution_count": 26,
   "metadata": {},
   "outputs": [
    {
     "data": {
      "text/plain": [
       "1.0    0.04092\n",
       "Name: Atrial_fibrillation_ind, dtype: float64"
      ]
     },
     "execution_count": 26,
     "metadata": {},
     "output_type": "execute_result"
    }
   ],
   "source": [
    "df1['Atrial_fibrillation_ind'].value_counts() / df1.shape[0]"
   ]
  },
  {
   "cell_type": "code",
   "execution_count": null,
   "metadata": {},
   "outputs": [],
   "source": []
  },
  {
   "cell_type": "code",
   "execution_count": null,
   "metadata": {},
   "outputs": [],
   "source": []
  }
 ],
 "metadata": {
  "kernelspec": {
   "display_name": "Python 3",
   "language": "python",
   "name": "python3"
  },
  "language_info": {
   "codemirror_mode": {
    "name": "ipython",
    "version": 3
   },
   "file_extension": ".py",
   "mimetype": "text/x-python",
   "name": "python",
   "nbconvert_exporter": "python",
   "pygments_lexer": "ipython3",
   "version": "3.7.4"
  }
 },
 "nbformat": 4,
 "nbformat_minor": 2
}
